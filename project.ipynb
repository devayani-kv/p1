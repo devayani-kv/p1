{
 "cells": [
  {
   "cell_type": "code",
   "execution_count": null,
   "id": "20f80ce5",
   "metadata": {},
   "outputs": [],
   "source": [
    "import pandas as pd\n",
    "import numpy as np\n",
    "import matplotlib.pyplot as plt\n",
    "import seaborn as sb\n",
    "import missingno as msno\n",
    "from scipy import stats\n",
    "from scipy.stats import skew\n",
    "import warnings\n",
    "warnings.filterwarnings('ignore')"
   ]
  },
  {
   "cell_type": "code",
   "execution_count": null,
   "id": "fd4a1e77",
   "metadata": {},
   "outputs": [],
   "source": [
    "df = pd.read_csv('train_hp.csv')"
   ]
  },
  {
   "cell_type": "code",
   "execution_count": null,
   "id": "9c3228ed",
   "metadata": {},
   "outputs": [],
   "source": [
    "df.head()"
   ]
  },
  {
   "cell_type": "code",
   "execution_count": null,
   "id": "bedcdc46",
   "metadata": {},
   "outputs": [],
   "source": [
    "df.info()"
   ]
  },
  {
   "cell_type": "code",
   "execution_count": null,
   "id": "330718a8",
   "metadata": {},
   "outputs": [],
   "source": [
    "df.drop('Id', axis=1, inplace = True)"
   ]
  },
  {
   "cell_type": "code",
   "execution_count": null,
   "id": "5476e9f4",
   "metadata": {},
   "outputs": [],
   "source": [
    "df.isnull().sum()"
   ]
  },
  {
   "cell_type": "code",
   "execution_count": null,
   "id": "a30e7701",
   "metadata": {},
   "outputs": [],
   "source": [
    "#check number of null values\n",
    "df.isna().sum()[df.isna().sum()>0].plot(kind='bar', color = 'r')"
   ]
  },
  {
   "cell_type": "code",
   "execution_count": null,
   "id": "3102f676",
   "metadata": {},
   "outputs": [],
   "source": [
    "#2 types of variables exist, numerical and categorical, variables which are numerical can be categorical, this is analysed\n",
    "#from the distribution plots\n",
    "#below -- separate data into numerical and categorical values"
   ]
  },
  {
   "cell_type": "code",
   "execution_count": null,
   "id": "08b2f6ea",
   "metadata": {},
   "outputs": [],
   "source": [
    "num_data = df.select_dtypes(exclude=['object']).copy()\n",
    "cat_data = df.select_dtypes(include=['object']).copy()\n",
    "#cat_data['MSSubClass'] = df['MSSubClass']"
   ]
  },
  {
   "cell_type": "code",
   "execution_count": null,
   "id": "b32b52a0",
   "metadata": {},
   "outputs": [],
   "source": [
    "num_data.head()"
   ]
  },
  {
   "cell_type": "code",
   "execution_count": null,
   "id": "332ee441",
   "metadata": {},
   "outputs": [],
   "source": [
    "cat_data.head()"
   ]
  },
  {
   "cell_type": "code",
   "execution_count": null,
   "id": "7bf279be",
   "metadata": {},
   "outputs": [],
   "source": [
    "fig = plt.figure(figsize=(18,16))\n",
    "for index,col in enumerate(num_data):\n",
    "    plt.subplot(10,6,index+1)\n",
    "    sb.distplot(num_data.loc[:,col].dropna(), kde=False,color='b')\n",
    "fig.tight_layout(pad=1.0)"
   ]
  },
  {
   "cell_type": "code",
   "execution_count": null,
   "id": "4f379c20",
   "metadata": {},
   "outputs": [],
   "source": [
    "fig = plt.figure(figsize=(18,20))\n",
    "for index in range(len(cat_data.columns)):\n",
    "    plt.subplot(9,5,index+1)\n",
    "    sb.boxplot(x=cat_data.iloc[:,index], y= df['SalePrice'], data=cat_data.dropna())\n",
    "    #plt.xticks(rotation=90)\n",
    "fig.tight_layout(pad=1.2)"
   ]
  },
  {
   "cell_type": "code",
   "execution_count": null,
   "id": "407ea084",
   "metadata": {
    "scrolled": false
   },
   "outputs": [],
   "source": [
    "fig = plt.figure(figsize=(18,20))\n",
    "for index in range(len(cat_data.columns)):\n",
    "    plt.subplot(9,5,index+1)\n",
    "    sb.countplot(x=cat_data.iloc[:,index], data=cat_data.dropna())\n",
    "    plt.xticks(rotation=90)\n",
    "fig.tight_layout(pad=1.2)"
   ]
  },
  {
   "cell_type": "code",
   "execution_count": null,
   "id": "ed33b954",
   "metadata": {},
   "outputs": [],
   "source": [
    "fig = plt.figure(figsize=(16,16))\n",
    "for index in range(len(num_data.columns)):\n",
    "    plt.subplot(10,5,index+1)\n",
    "    sb.scatterplot(x=num_data.iloc[:,index], y='SalePrice', data=num_data.dropna())\n",
    "fig.tight_layout()"
   ]
  },
  {
   "cell_type": "code",
   "execution_count": null,
   "id": "3c530b95",
   "metadata": {},
   "outputs": [],
   "source": [
    "#df = df[df.LotFrontage < 200]\n",
    "#df = df[df.LotArea < 100000]\n",
    "#df = df[df.BsmtFinSF1 < 3000]\n",
    "#df = df[df.BsmtFinSF2 < 1400]\n",
    "#df = df[df.TotalBsmtSF < 4000]\n",
    "#df = df[df.1stFlrSF < 3000]\n",
    "#df = df[df.GrLivArea < 4000]\n"
   ]
  },
  {
   "cell_type": "code",
   "execution_count": null,
   "id": "23cdd431",
   "metadata": {},
   "outputs": [],
   "source": []
  },
  {
   "cell_type": "code",
   "execution_count": null,
   "id": "956e9a82",
   "metadata": {},
   "outputs": [],
   "source": [
    "df['MSSubClass'] = df['MSSubClass'].apply(str)\n",
    "df['YrSold'] = df['YrSold'].astype(str)\n",
    "df['MoSold'] = df['MoSold'].astype(str) #encode categorical features"
   ]
  },
  {
   "cell_type": "code",
   "execution_count": null,
   "id": "ddaff38e",
   "metadata": {},
   "outputs": [],
   "source": [
    "for col in ('GarageYrBlt', 'GarageArea', 'GarageCars'):\n",
    "    df[col] = df[col].fillna(0)\n",
    "for col in ['GarageType', 'GarageFinish', 'GarageQual', 'GarageCond']:\n",
    "    df[col] = df[col].fillna('None')\n",
    "for col in ('BsmtQual', 'BsmtCond', 'BsmtExposure', 'BsmtFinType1', 'BsmtFinType2'):\n",
    "    df[col] = df[col].fillna('None')"
   ]
  },
  {
   "cell_type": "code",
   "execution_count": null,
   "id": "7e9adef0",
   "metadata": {},
   "outputs": [],
   "source": [
    "df.isna().sum()[df.isna().sum()>0].plot(kind='bar', color = 'r')"
   ]
  },
  {
   "cell_type": "code",
   "execution_count": null,
   "id": "3ac884a5",
   "metadata": {},
   "outputs": [],
   "source": [
    "df['FireplaceQu'].fillna('None', inplace = True)\n",
    "df['FireplaceQu'].isnull().sum()"
   ]
  },
  {
   "cell_type": "code",
   "execution_count": null,
   "id": "22dcfba5",
   "metadata": {},
   "outputs": [],
   "source": [
    "df['Electrical'].fillna('SBrkr', inplace = True)\n",
    "df['Electrical'].isnull().sum()"
   ]
  },
  {
   "cell_type": "code",
   "execution_count": null,
   "id": "d455404e",
   "metadata": {},
   "outputs": [],
   "source": [
    "df['MasVnrType'].fillna('None', inplace=True)\n",
    "df['MasVnrType'].isnull().sum()\n",
    "df['MasVnrArea'].fillna(0, inplace = True)"
   ]
  },
  {
   "cell_type": "code",
   "execution_count": null,
   "id": "cd3285e4",
   "metadata": {},
   "outputs": [],
   "source": [
    "df.isna().sum()[df.isna().sum()>0].plot(kind='bar', color = 'r')"
   ]
  },
  {
   "cell_type": "code",
   "execution_count": null,
   "id": "b6bbc4cf",
   "metadata": {},
   "outputs": [],
   "source": [
    "sb.distplot(df['LotArea'].dropna())"
   ]
  },
  {
   "cell_type": "code",
   "execution_count": null,
   "id": "79763f0d",
   "metadata": {},
   "outputs": [],
   "source": [
    "sb.distplot(df['LotFrontage'].dropna())"
   ]
  },
  {
   "cell_type": "code",
   "execution_count": null,
   "id": "78f0ab7e",
   "metadata": {},
   "outputs": [],
   "source": [
    "df['LotFrontage'] = df.groupby('Neighborhood')['LotFrontage'].transform(lambda x: x.fillna(x.median()))"
   ]
  },
  {
   "cell_type": "code",
   "execution_count": null,
   "id": "fc99b9a9",
   "metadata": {},
   "outputs": [],
   "source": [
    "df.isna().sum()[df.isna().sum()>0].plot(kind='bar', color = 'r')"
   ]
  },
  {
   "cell_type": "code",
   "execution_count": null,
   "id": "79f27bb7",
   "metadata": {},
   "outputs": [],
   "source": [
    "df['Alley'].fillna('None', inplace = True)"
   ]
  },
  {
   "cell_type": "code",
   "execution_count": null,
   "id": "9fb025f3",
   "metadata": {},
   "outputs": [],
   "source": [
    "df.isna().sum()[df.isna().sum()>0].plot(kind='bar', color = 'r')"
   ]
  },
  {
   "cell_type": "code",
   "execution_count": null,
   "id": "a9ff85fc",
   "metadata": {},
   "outputs": [],
   "source": [
    "df['PoolArea'].unique()"
   ]
  },
  {
   "cell_type": "code",
   "execution_count": null,
   "id": "ee4ed446",
   "metadata": {},
   "outputs": [],
   "source": [
    "df['PoolQC'].unique()"
   ]
  },
  {
   "cell_type": "code",
   "execution_count": null,
   "id": "aff4016a",
   "metadata": {},
   "outputs": [],
   "source": [
    "df['PoolQC'].fillna('None', inplace = True)"
   ]
  },
  {
   "cell_type": "code",
   "execution_count": null,
   "id": "284a95ca",
   "metadata": {},
   "outputs": [],
   "source": [
    "df['PoolQC'].unique()"
   ]
  },
  {
   "cell_type": "code",
   "execution_count": null,
   "id": "14c15748",
   "metadata": {},
   "outputs": [],
   "source": [
    "df['PoolArea'].value_counts()"
   ]
  },
  {
   "cell_type": "code",
   "execution_count": null,
   "id": "3b695dd3",
   "metadata": {},
   "outputs": [],
   "source": [
    "df.isna().sum()[df.isna().sum()>0].plot(kind='bar', color = 'r')"
   ]
  },
  {
   "cell_type": "code",
   "execution_count": null,
   "id": "19dcfb0e",
   "metadata": {},
   "outputs": [],
   "source": [
    "df['MiscFeature'].unique()"
   ]
  },
  {
   "cell_type": "code",
   "execution_count": null,
   "id": "118e3bff",
   "metadata": {},
   "outputs": [],
   "source": [
    "count = (df['2ndFlrSF'] == 0).sum()\n",
    "count"
   ]
  },
  {
   "cell_type": "code",
   "execution_count": null,
   "id": "327474a2",
   "metadata": {},
   "outputs": [],
   "source": [
    "df2 = df\n",
    "df2.head()"
   ]
  },
  {
   "cell_type": "code",
   "execution_count": null,
   "id": "077580be",
   "metadata": {},
   "outputs": [],
   "source": [
    "df2.drop(['MiscFeature', 'Fence'], inplace = True, axis=1)"
   ]
  },
  {
   "cell_type": "code",
   "execution_count": null,
   "id": "6f03e285",
   "metadata": {},
   "outputs": [],
   "source": [
    "df2.head()"
   ]
  },
  {
   "cell_type": "code",
   "execution_count": null,
   "id": "dba5164c",
   "metadata": {},
   "outputs": [],
   "source": [
    "df2.isna().sum()"
   ]
  },
  {
   "cell_type": "code",
   "execution_count": null,
   "id": "cf9421f2",
   "metadata": {},
   "outputs": [],
   "source": [
    "df2[\"net_qual_m\"] = df2.OverallQual.replace({1 : 1, 2 : 1, 3 : 1, \n",
    "                                                       4 : 2, 5 : 2, 6 : 2, \n",
    "                                                       7 : 3, 8 : 3, 9 : 3, 10 : 3 \n",
    "                                                      })\n",
    "df2[\"net_cond_mo\"] = df2.OverallCond.replace({1 : 1, 2 : 1, 3 : 1, \n",
    "                                                       4 : 2, 5 : 2, 6 : 2,\n",
    "                                                       7 : 3, 8 : 3, 9 : 3, 10 : 3\n",
    "                                                      })\n",
    "df2[\"exter_qual_m\"] = df2.ExterQual.replace({'TA' : 3, 'Gd': 2, 'Ex': 1, 'Fa':1})"
   ]
  },
  {
   "cell_type": "code",
   "execution_count": null,
   "id": "2fab8894",
   "metadata": {},
   "outputs": [],
   "source": [
    "df2[\"exter_cond_m\"] = df2.ExterCond.replace({'TA':3, 'Gd':2, 'Fa':1, 'Ex':1, 'Po': 1})\n",
    "df2[\"bsmt_qual_m\"] = df2.BsmtQual.replace({'TA':4, 'Gd':3, 'Ex':2, 'Fa':1, 'None':0})\n",
    "df2['bsmt_cond_m'] = df2.BsmtCond.replace({'TA':3, 'Gd':2, 'Fa':2, 'Po':1, 'None':0})\n",
    "df2['heating_qc_m'] = df2.HeatingQC.replace({'Ex': 5, 'TA':4, 'Gd':3, 'Fa':2, 'Po':1})\n",
    "df2['kitchen_qual_m'] = df2.KitchenQual.replace({'TA':4, 'Gd':3, 'Ex':2, 'Fa':1})\n",
    "df2['fireplace_qu_m'] = df2.FireplaceQu.replace({'None':0, 'Gd':3, 'Ta':2, 'Fa':1, 'Ex':1, 'Po':1})\n",
    "df2['garage_qu_m'] = df2.GarageQual.replace({'TA': 3, 'None':0, 'Fa':2, 'Gd':2, 'Ex':1, 'Po':1})\n",
    "df2['garage_cond_m'] = df2.GarageCond.replace({'TA':3, 'None':0, 'Fa':2, 'Gd':1, 'Po':1, 'Ex':1})\n",
    "df2['pool_qc_m'] = df2.PoolQC.replace({'None':0, 'Gd':1, 'Ex':1, 'Fa':1})\n"
   ]
  },
  {
   "cell_type": "code",
   "execution_count": null,
   "id": "8da83e55",
   "metadata": {},
   "outputs": [],
   "source": [
    "df2.drop(['OverallQual','OverallCond','ExterQual','ExterCond','BsmtQual','BsmtCond','HeatingQC','KitchenQual','FireplaceQu',\n",
    "         'GarageQual','GarageCond','PoolQC'], inplace= True, axis=1)\n",
    "\n",
    "\n",
    "################################################################################################################\n",
    "#drop the above columns"
   ]
  },
  {
   "cell_type": "code",
   "execution_count": null,
   "id": "8db1b550",
   "metadata": {},
   "outputs": [],
   "source": [
    "df2['LotShape'].replace({'Reg':'4', 'IR1':'3', 'IR2':'2', 'IR3':'1'}) ##### CHANGE THIS \n",
    "df2.drop('Utilities', axis=1)\n",
    "df2['landslope_m'] = df2.LandSlope.replace({'Gtl':3, 'Mod':2, 'Sev':1})\n",
    "df2['bsmt_exposure_m'] = df2.BsmtExposure.replace({'No':0, 'Gd':4, 'Av':3, 'Mn':2, 'No':1})\n",
    "df2['bsmt_fintype1_m'] = df2.BsmtFinType1.replace({'BLQ':3, 'ALQ':3, 'GLQ':3, 'LwQ':2, 'Rec':2, 'Unf':1, 'None':0})\n",
    "df2['functional_m'] = df2.Functional.replace({'Sal':1, 'Sev':1, 'Maj1':2, 'Maj2':2, 'Min1':3,'Min2':3,'Mod':3,'Typ':4})\n",
    "df2['garage_finish_m'] = df2.GarageFinish.replace({'Fin':3, 'RFn':2, 'Unf':1, 'None':0})\n",
    "df2['paved_drive_m'] = df2.PavedDrive.replace({'Y':3, 'P':2, 'N':1})"
   ]
  },
  {
   "cell_type": "code",
   "execution_count": null,
   "id": "b04366e8",
   "metadata": {},
   "outputs": [],
   "source": [
    "df2.drop(['LandSlope','BsmtExposure','BsmtFinType1','Functional','GarageFinish','PavedDrive'], inplace = True, axis=1)\n",
    "################################################################################################################\n",
    "#drop the above columns\n"
   ]
  },
  {
   "cell_type": "code",
   "execution_count": null,
   "id": "309b6959",
   "metadata": {},
   "outputs": [],
   "source": [
    "df2[\"TotalPorchSF\"] = df2[\"OpenPorchSF\"] + df2[\"EnclosedPorch\"] + df2[\"3SsnPorch\"] + df2[\"ScreenPorch\"]\n",
    "df2['TotalLivingArea'] = df2['GrLivArea'] + df2['WoodDeckSF'] + df2['TotalBsmtSF']\n",
    "df2.drop('GarageCars',axis=1, inplace =True)\n",
    "df2['years bw build and remodel'] = df2['YearRemodAdd']-df2['YearBuilt']\n",
    "df2[\"TotalBath\"] = df2[\"BsmtFullBath\"] + (0.5 * df2[\"BsmtHalfBath\"]) + df2[\"FullBath\"] + (0.5 * df2[\"HalfBath\"])\n"
   ]
  },
  {
   "cell_type": "code",
   "execution_count": null,
   "id": "b0ba8efa",
   "metadata": {},
   "outputs": [],
   "source": []
  },
  {
   "cell_type": "code",
   "execution_count": null,
   "id": "b87d5510",
   "metadata": {},
   "outputs": [],
   "source": [
    "df2.info()"
   ]
  },
  {
   "cell_type": "code",
   "execution_count": null,
   "id": "6992500d",
   "metadata": {},
   "outputs": [],
   "source": [
    "num_data = df.select_dtypes(exclude=['object']).copy()\n",
    "fig = plt.figure(figsize=(20,20))\n",
    "for index in range(len(num_data.columns)):\n",
    "    plt.subplot(20,5,index+1)\n",
    "    sb.scatterplot(x=num_data.iloc[:,index], y='SalePrice', data=num_data.dropna())\n",
    "fig.tight_layout()"
   ]
  },
  {
   "cell_type": "code",
   "execution_count": null,
   "id": "852c1c37",
   "metadata": {},
   "outputs": [],
   "source": [
    "num_data = df2.select_dtypes(exclude=['object']).copy()\n",
    "num_data"
   ]
  },
  {
   "cell_type": "code",
   "execution_count": null,
   "id": "1640455a",
   "metadata": {},
   "outputs": [],
   "source": [
    "num_data = df2.select_dtypes(exclude=['object']).copy()\n",
    "fig = plt.figure(figsize=(18,16))\n",
    "for index,col in enumerate(num_data):\n",
    "    plt.subplot(10,6,index+1)\n",
    "    sb.distplot(num_data.loc[:,col].dropna(), kde=False,color='b')\n",
    "fig.tight_layout(pad=1.0)"
   ]
  },
  {
   "cell_type": "code",
   "execution_count": null,
   "id": "4ff20307",
   "metadata": {},
   "outputs": [],
   "source": [
    "#print(sb.distplot(x = df2['SalePrice']))\n",
    "df2.SalePrice = np.log1p(df2.SalePrice)\n",
    "sb.distplot(x = df2['SalePrice'])"
   ]
  },
  {
   "cell_type": "code",
   "execution_count": null,
   "id": "a0d17b89",
   "metadata": {},
   "outputs": [],
   "source": [
    "(df2.isna().sum() >0).value_counts()\n",
    "print((df2.isna().sum() >0)) #no null vals"
   ]
  },
  {
   "cell_type": "code",
   "execution_count": null,
   "id": "bed658fd",
   "metadata": {},
   "outputs": [],
   "source": [
    "#cat_data\n",
    "#for i in cat_data:\n",
    "#    print(i)\n",
    "#    print(df2[i].value_counts())\n",
    "#Street Alley Utilities drop"
   ]
  },
  {
   "cell_type": "code",
   "execution_count": null,
   "id": "7df441c5",
   "metadata": {},
   "outputs": [],
   "source": [
    "#num_data = df2.select_dtypes(exclude=['object']).copy()\n",
    "cat_data = df2.select_dtypes(include=['object']).copy()"
   ]
  },
  {
   "cell_type": "code",
   "execution_count": null,
   "id": "591fb48c",
   "metadata": {},
   "outputs": [],
   "source": [
    "num_data"
   ]
  },
  {
   "cell_type": "code",
   "execution_count": null,
   "id": "0931cafb",
   "metadata": {},
   "outputs": [],
   "source": [
    "cat_data"
   ]
  },
  {
   "cell_type": "code",
   "execution_count": null,
   "id": "ec6fc165",
   "metadata": {},
   "outputs": [],
   "source": [
    "num_data = df2.select_dtypes(exclude = [\"object\"]).columns\n",
    "vars_skewed = df2[num_data].apply(lambda x: skew(x)).sort_values()\n",
    "vars_skewed\n",
    "for col in vars_skewed.index:\n",
    "    df2[col] = np.log1p(df2[col])\n",
    "\n",
    "    "
   ]
  },
  {
   "cell_type": "code",
   "execution_count": null,
   "id": "f580a387",
   "metadata": {},
   "outputs": [],
   "source": [
    "num_data = df2.select_dtypes(exclude = [\"object\"]).columns\n",
    "vars_skewed = df2[num_data].apply(lambda x: skew(x)).sort_values()\n",
    "vars_skewed"
   ]
  },
  {
   "cell_type": "code",
   "execution_count": null,
   "id": "367e9e99",
   "metadata": {},
   "outputs": [],
   "source": [
    "num_data = df2.select_dtypes(exclude=['object']).copy()\n",
    "fig = plt.figure(figsize=(18,16))\n",
    "for index,col in enumerate(num_data):\n",
    "    plt.subplot(10,6,index+1)\n",
    "    sb.distplot(num_data.loc[:,col].dropna(), kde=False,color='b')\n",
    "fig.tight_layout(pad=1.0)"
   ]
  },
  {
   "cell_type": "code",
   "execution_count": null,
   "id": "35c8aff0",
   "metadata": {},
   "outputs": [],
   "source": [
    "sb.distplot(x = df2['LotArea'])\n",
    "df2['PoolArea'].value_counts()"
   ]
  },
  {
   "cell_type": "raw",
   "id": "9c3dafc5",
   "metadata": {},
   "source": [
    "TRAIN MODEL WITHOUT ANY MODIFICATIONS TO THE FEATURES, USE OLS REGRESSION"
   ]
  },
  {
   "cell_type": "code",
   "execution_count": null,
   "id": "895f6290",
   "metadata": {},
   "outputs": [],
   "source": [
    "df2_modi = pd.get_dummies(df2)\n",
    "df2_modi.info()"
   ]
  },
  {
   "cell_type": "code",
   "execution_count": null,
   "id": "8fca3713",
   "metadata": {},
   "outputs": [],
   "source": [
    "num_data = df2.select_dtypes(exclude = [\"object\"]).columns\n",
    "#num_data = df2.select_dtypes(exclude=['object']).copy()\n",
    "num_data = num_data.drop('SalePrice')\n",
    "#num_data"
   ]
  },
  {
   "cell_type": "code",
   "execution_count": null,
   "id": "d673e9c6",
   "metadata": {},
   "outputs": [],
   "source": [
    "num_data"
   ]
  },
  {
   "cell_type": "code",
   "execution_count": null,
   "id": "6cc925b7",
   "metadata": {},
   "outputs": [],
   "source": [
    "x = df2_modi.drop('SalePrice', axis=1)"
   ]
  },
  {
   "cell_type": "code",
   "execution_count": null,
   "id": "f6079611",
   "metadata": {},
   "outputs": [],
   "source": [
    "x"
   ]
  },
  {
   "cell_type": "code",
   "execution_count": null,
   "id": "f84b0f2d",
   "metadata": {},
   "outputs": [],
   "source": [
    "y = df2_modi['SalePrice']\n",
    "y"
   ]
  },
  {
   "cell_type": "code",
   "execution_count": null,
   "id": "c667de62",
   "metadata": {},
   "outputs": [],
   "source": [
    "from sklearn.model_selection import train_test_split\n",
    "x_train, x_test, y_train, y_test = train_test_split(x, y,random_state=0)"
   ]
  },
  {
   "cell_type": "code",
   "execution_count": null,
   "id": "ef1b2a31",
   "metadata": {},
   "outputs": [],
   "source": [
    "from sklearn.linear_model import LinearRegression\n",
    "lm = LinearRegression()\n",
    "lm.fit(x_train,y_train)"
   ]
  },
  {
   "cell_type": "code",
   "execution_count": null,
   "id": "57a27c14",
   "metadata": {},
   "outputs": [],
   "source": []
  },
  {
   "cell_type": "code",
   "execution_count": null,
   "id": "7298a0d9",
   "metadata": {},
   "outputs": [],
   "source": [
    "predictions = lm.predict(x_test)\n",
    "from sklearn import metrics\n",
    "print('RMSE:', np.sqrt(metrics.mean_squared_error(y_test, predictions)))"
   ]
  },
  {
   "cell_type": "code",
   "execution_count": null,
   "id": "f2a50382",
   "metadata": {},
   "outputs": [],
   "source": [
    "pred = lm.predict(x_train)\n",
    "print('RMSE:', np.sqrt(metrics.mean_squared_error(y_train, pred)))"
   ]
  },
  {
   "cell_type": "raw",
   "id": "abbe7a28",
   "metadata": {},
   "source": [
    "RIDGE REGRESSION WITH SCALING PARAMETERS. "
   ]
  },
  {
   "cell_type": "code",
   "execution_count": null,
   "id": "4ed25ec2",
   "metadata": {},
   "outputs": [],
   "source": [
    "nm = df2.select_dtypes(exclude = [\"object\"]).columns\n",
    "nm = nm.drop('SalePrice')\n",
    "numeric_data = df2[num_data]\n",
    "nm"
   ]
  },
  {
   "cell_type": "code",
   "execution_count": null,
   "id": "65832edd",
   "metadata": {},
   "outputs": [],
   "source": [
    "from sklearn.linear_model import Ridge, RidgeCV\n",
    "xr_train, xr_test, yr_train, yr_test = train_test_split(x,y, random_state=0)\n",
    "from sklearn.preprocessing import StandardScaler\n",
    "from sklearn.metrics import mean_squared_error\n",
    "stdSc = StandardScaler()\n",
    "xr_train.loc[:, nm] = stdSc.fit_transform(xr_train.loc[:, nm])\n",
    "xr_test.loc[:, nm] = stdSc.transform(xr_test.loc[:, nm])"
   ]
  },
  {
   "cell_type": "code",
   "execution_count": null,
   "id": "b3a2b1cd",
   "metadata": {},
   "outputs": [],
   "source": [
    "from sklearn.model_selection import cross_val_score\n",
    "lridge = Ridge()"
   ]
  },
  {
   "cell_type": "code",
   "execution_count": null,
   "id": "fa6e12a9",
   "metadata": {},
   "outputs": [],
   "source": [
    "def rmse_cv(model):\n",
    "    rmse= np.sqrt(-cross_val_score(model, xr_train, yr_train, scoring=\"neg_mean_squared_error\", cv = 5))\n",
    "    return(rmse)"
   ]
  },
  {
   "cell_type": "code",
   "execution_count": null,
   "id": "0dc492c8",
   "metadata": {},
   "outputs": [],
   "source": [
    "alphas = [0.05, 0.1, 0.15, 0.2, 0.25, 0.3, 0.35, 0.4, 1, 3, 5, 10,15,20,25,30,35,40,45,50,55,60,65, 75]\n",
    "score = [rmse_cv(Ridge(alpha = alpha)).mean() \n",
    "            for alpha in alphas]"
   ]
  },
  {
   "cell_type": "code",
   "execution_count": null,
   "id": "655db635",
   "metadata": {},
   "outputs": [],
   "source": [
    "score = pd.Series(score, index = alphas)\n",
    "score.plot()\n",
    "plt.xlabel(\"alpha\")\n",
    "plt.ylabel(\"rmse\")"
   ]
  },
  {
   "cell_type": "code",
   "execution_count": null,
   "id": "ba815a0b",
   "metadata": {},
   "outputs": [],
   "source": [
    "score #min val at 15"
   ]
  },
  {
   "cell_type": "code",
   "execution_count": null,
   "id": "1149aa40",
   "metadata": {},
   "outputs": [],
   "source": []
  },
  {
   "cell_type": "code",
   "execution_count": null,
   "id": "a35203da",
   "metadata": {},
   "outputs": [],
   "source": []
  },
  {
   "cell_type": "code",
   "execution_count": null,
   "id": "10b0c4c1",
   "metadata": {},
   "outputs": [],
   "source": []
  }
 ],
 "metadata": {
  "kernelspec": {
   "display_name": "Python 3 (ipykernel)",
   "language": "python",
   "name": "python3"
  },
  "language_info": {
   "codemirror_mode": {
    "name": "ipython",
    "version": 3
   },
   "file_extension": ".py",
   "mimetype": "text/x-python",
   "name": "python",
   "nbconvert_exporter": "python",
   "pygments_lexer": "ipython3",
   "version": "3.9.11"
  }
 },
 "nbformat": 4,
 "nbformat_minor": 5
}
